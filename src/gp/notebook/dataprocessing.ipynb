{
 "cells": [
  {
   "cell_type": "code",
   "execution_count": 1,
   "metadata": {
    "collapsed": true
   },
   "outputs": [],
   "source": [
    "import pandas as pd\n",
    "\n",
    "df = pd.read_csv(\"comments.csv\")"
   ]
  },
  {
   "cell_type": "code",
   "execution_count": 6,
   "outputs": [
    {
     "data": {
      "text/plain": "       Unnamed: 0     Video ID   \n0               0  wAZZ-UWGVHI  \\\n1               1  wAZZ-UWGVHI   \n2               2  wAZZ-UWGVHI   \n3               3  wAZZ-UWGVHI   \n4               4  wAZZ-UWGVHI   \n...           ...          ...   \n18404       18404  cyLWtMSry58   \n18405       18405  cyLWtMSry58   \n18406       18406  cyLWtMSry58   \n18407       18407  cyLWtMSry58   \n18408       18408  cyLWtMSry58   \n\n                                                 Comment  Likes  Sentiment  \n0      Let's not forget that Apple Pay in 2014 requir...   95.0        1.0  \n1      Here in NZ 50% of retailers don’t even have co...   19.0        0.0  \n2      I will forever acknowledge this channel with t...  161.0        2.0  \n3      Whenever I go to a place that doesn’t take App...    8.0        0.0  \n4      Apple Pay is so convenient, secure, and easy t...   34.0        2.0  \n...                                                  ...    ...        ...  \n18404  I really like the point about engineering tool...    0.0        2.0  \n18405  I’ve just started exploring this field. And th...   20.0        2.0  \n18406  Excelente video con una pregunta filosófica pr...    1.0        1.0  \n18407  Hey Daniel, just discovered your channel a cou...   35.0        2.0  \n18408  This is great. Focus is key. A playful approac...    0.0        2.0  \n\n[18409 rows x 5 columns]",
      "text/html": "<div>\n<style scoped>\n    .dataframe tbody tr th:only-of-type {\n        vertical-align: middle;\n    }\n\n    .dataframe tbody tr th {\n        vertical-align: top;\n    }\n\n    .dataframe thead th {\n        text-align: right;\n    }\n</style>\n<table border=\"1\" class=\"dataframe\">\n  <thead>\n    <tr style=\"text-align: right;\">\n      <th></th>\n      <th>Unnamed: 0</th>\n      <th>Video ID</th>\n      <th>Comment</th>\n      <th>Likes</th>\n      <th>Sentiment</th>\n    </tr>\n  </thead>\n  <tbody>\n    <tr>\n      <th>0</th>\n      <td>0</td>\n      <td>wAZZ-UWGVHI</td>\n      <td>Let's not forget that Apple Pay in 2014 requir...</td>\n      <td>95.0</td>\n      <td>1.0</td>\n    </tr>\n    <tr>\n      <th>1</th>\n      <td>1</td>\n      <td>wAZZ-UWGVHI</td>\n      <td>Here in NZ 50% of retailers don’t even have co...</td>\n      <td>19.0</td>\n      <td>0.0</td>\n    </tr>\n    <tr>\n      <th>2</th>\n      <td>2</td>\n      <td>wAZZ-UWGVHI</td>\n      <td>I will forever acknowledge this channel with t...</td>\n      <td>161.0</td>\n      <td>2.0</td>\n    </tr>\n    <tr>\n      <th>3</th>\n      <td>3</td>\n      <td>wAZZ-UWGVHI</td>\n      <td>Whenever I go to a place that doesn’t take App...</td>\n      <td>8.0</td>\n      <td>0.0</td>\n    </tr>\n    <tr>\n      <th>4</th>\n      <td>4</td>\n      <td>wAZZ-UWGVHI</td>\n      <td>Apple Pay is so convenient, secure, and easy t...</td>\n      <td>34.0</td>\n      <td>2.0</td>\n    </tr>\n    <tr>\n      <th>...</th>\n      <td>...</td>\n      <td>...</td>\n      <td>...</td>\n      <td>...</td>\n      <td>...</td>\n    </tr>\n    <tr>\n      <th>18404</th>\n      <td>18404</td>\n      <td>cyLWtMSry58</td>\n      <td>I really like the point about engineering tool...</td>\n      <td>0.0</td>\n      <td>2.0</td>\n    </tr>\n    <tr>\n      <th>18405</th>\n      <td>18405</td>\n      <td>cyLWtMSry58</td>\n      <td>I’ve just started exploring this field. And th...</td>\n      <td>20.0</td>\n      <td>2.0</td>\n    </tr>\n    <tr>\n      <th>18406</th>\n      <td>18406</td>\n      <td>cyLWtMSry58</td>\n      <td>Excelente video con una pregunta filosófica pr...</td>\n      <td>1.0</td>\n      <td>1.0</td>\n    </tr>\n    <tr>\n      <th>18407</th>\n      <td>18407</td>\n      <td>cyLWtMSry58</td>\n      <td>Hey Daniel, just discovered your channel a cou...</td>\n      <td>35.0</td>\n      <td>2.0</td>\n    </tr>\n    <tr>\n      <th>18408</th>\n      <td>18408</td>\n      <td>cyLWtMSry58</td>\n      <td>This is great. Focus is key. A playful approac...</td>\n      <td>0.0</td>\n      <td>2.0</td>\n    </tr>\n  </tbody>\n</table>\n<p>18409 rows × 5 columns</p>\n</div>"
     },
     "execution_count": 6,
     "metadata": {},
     "output_type": "execute_result"
    }
   ],
   "source": [
    "df"
   ],
   "metadata": {
    "collapsed": false
   }
  }
 ],
 "metadata": {
  "kernelspec": {
   "display_name": "Python 3",
   "language": "python",
   "name": "python3"
  },
  "language_info": {
   "codemirror_mode": {
    "name": "ipython",
    "version": 2
   },
   "file_extension": ".py",
   "mimetype": "text/x-python",
   "name": "python",
   "nbconvert_exporter": "python",
   "pygments_lexer": "ipython2",
   "version": "2.7.6"
  }
 },
 "nbformat": 4,
 "nbformat_minor": 0
}
